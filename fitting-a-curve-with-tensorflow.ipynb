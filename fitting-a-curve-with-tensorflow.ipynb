{
 "cells": [
  {
   "cell_type": "code",
   "execution_count": 1,
   "metadata": {},
   "outputs": [
    {
     "name": "stderr",
     "output_type": "stream",
     "text": [
      "/Users/dforeman/anaconda/lib/python3.6/importlib/_bootstrap.py:205: RuntimeWarning: compiletime version 3.5 of module 'tensorflow.python.framework.fast_tensor_util' does not match runtime version 3.6\n",
      "  return f(*args, **kwds)\n"
     ]
    }
   ],
   "source": [
    "import tensorflow as tf\n",
    "import numpy as np\n",
    "import matplotlib.pyplot as plt"
   ]
  },
  {
   "cell_type": "code",
   "execution_count": 2,
   "metadata": {
    "collapsed": true
   },
   "outputs": [],
   "source": [
    "# Generate fake data\n",
    "n_samples = 20\n",
    "true_a2, true_a1, true_a0 = 2.1, 2.3, 0.1\n",
    "x_data = np.random.uniform(size=n_samples)\n",
    "y_data = x_data*x_data*true_a2 + x_data*true_a1 + true_a0 + np.random.normal(size=n_samples, scale=0.2)"
   ]
  },
  {
   "cell_type": "code",
   "execution_count": 3,
   "metadata": {},
   "outputs": [
    {
     "name": "stdout",
     "output_type": "stream",
     "text": [
      "Tensor(\"Sum:0\", dtype=float32)\n"
     ]
    }
   ],
   "source": [
    "x = tf.placeholder(\"float\")\n",
    "y = tf.placeholder(\"float\")\n",
    "a2 = tf.Variable(np.random.randn(), name=\"a2\")\n",
    "a1 = tf.Variable(np.random.randn(), name=\"a1\")\n",
    "a0 = tf.Variable(np.random.randn(), name=\"a0\")\n",
    "\n",
    "model = x*x*a2 + x*a1 + a0\n",
    "cost = tf.reduce_sum(tf.pow(model - y, 2)) \n",
    "print(cost)\n",
    "optimizer = tf.train.GradientDescentOptimizer(learning_rate=0.001).minimize(cost)"
   ]
  },
  {
   "cell_type": "code",
   "execution_count": 4,
   "metadata": {},
   "outputs": [
    {
     "data": {
      "image/png": "[encoded data removed]",
      "text/plain": [
       "<matplotlib.figure.Figure at 0x103991400>"
      ]
     },
     "metadata": {},
     "output_type": "display_data"
    }
   ],
   "source": [
    "init = tf.global_variables_initializer()\n",
    "with tf.Session() as sess:\n",
    "    sess.run(init)\n",
    "    for i in range(500):\n",
    "        sess.run(optimizer, feed_dict={x: x_data, y: y_data})\n",
    "        #print(\"slope={}, intercept={}\".format(sess.run(slope), sess.run(intercept)))\n",
    "\n",
    "    plt.plot(x_data, y_data, 'ro', label='Original data')\n",
    "    plx = np.linspace(0, 1)\n",
    "    plt.plot(plx, sess.run(a2)*plx*plx + sess.run(a1)*plx + sess.run(a0), label='Fitted line')\n",
    "    plt.legend()\n",
    "    plt.show()"
   ]
  },
  {
   "cell_type": "code",
   "execution_count": null,
   "metadata": {
    "collapsed": true
   },
   "outputs": [],
   "source": []
  }
 ],
 "metadata": {
  "kernelspec": {
   "display_name": "Python 3",
   "language": "python",
   "name": "python3"
  },
  "language_info": {
   "codemirror_mode": {
    "name": "ipython",
    "version": 3
   },
   "file_extension": ".py",
   "mimetype": "text/x-python",
   "name": "python",
   "nbconvert_exporter": "python",
   "pygments_lexer": "ipython3",
   "version": "3.6.1"
  }
 },
 "nbformat": 4,
 "nbformat_minor": 2
}
