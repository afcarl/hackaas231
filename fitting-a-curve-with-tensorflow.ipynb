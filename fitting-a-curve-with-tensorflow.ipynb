{
 "cells": [
  {
   "cell_type": "code",
   "execution_count": 45,
   "metadata": {},
   "outputs": [],
   "source": [
    "import tensorflow as tf\n",
    "import numpy as np\n",
    "import matplotlib.pyplot as plt"
   ]
  },
  {
   "cell_type": "code",
   "execution_count": 46,
   "metadata": {},
   "outputs": [],
   "source": [
    "# Generate fake data\n",
    "n_samples = 20\n",
    "slope, intercept = 2.3, 0.1\n",
    "x_data = np.random.uniform(size=n_samples)\n",
    "y_data = x_data*x_data*slope + x_data*slope + intercept + np.random.normal(size=n_samples, scale=0.2)"
   ]
  },
  {
   "cell_type": "code",
   "execution_count": 47,
   "metadata": {},
   "outputs": [
    {
     "name": "stdout",
     "output_type": "stream",
     "text": [
      "Tensor(\"Sum_16:0\", dtype=float32)\n"
     ]
    }
   ],
   "source": [
    "x = tf.placeholder(\"float\")\n",
    "y = tf.placeholder(\"float\")\n",
    "slope = tf.Variable(np.random.randn(), name=\"slope\")\n",
    "intercept = tf.Variable(np.random.randn(), name=\"intercept\")\n",
    "\n",
    "model = x*x*slope + x*slope + intercept\n",
    "cost = tf.reduce_sum(tf.pow(model - y, 2)) \n",
    "print(cost)\n",
    "optimizer = tf.train.GradientDescentOptimizer(learning_rate=0.001).minimize(cost)"
   ]
  },
  {
   "cell_type": "code",
   "execution_count": 48,
   "metadata": {},
   "outputs": [
    {
     "data": {
      "image/png": "[encoded data removed]",
      "text/plain": [
       "<matplotlib.figure.Figure at 0x7fe3d300f518>"
      ]
     },
     "metadata": {},
     "output_type": "display_data"
    }
   ],
   "source": [
    "init = tf.global_variables_initializer()\n",
    "with tf.Session() as sess:\n",
    "    sess.run(init)\n",
    "    for i in range(500):\n",
    "        sess.run(optimizer, feed_dict={x: x_data, y: y_data})\n",
    "        #print(\"slope={}, intercept={}\".format(sess.run(slope), sess.run(intercept)))\n",
    "\n",
    "    plt.plot(x_data, y_data, 'ro', label='Original data')\n",
    "    plx = np.linspace(0, 1)\n",
    "    plt.plot(plx, sess.run(slope)*plx*plx + sess.run(slope)*plx + sess.run(intercept), label='Fitted line')\n",
    "    plt.legend()\n",
    "    plt.show()"
   ]
  },
  {
   "cell_type": "code",
   "execution_count": null,
   "metadata": {
    "collapsed": true
   },
   "outputs": [],
   "source": []
  }
 ],
 "metadata": {
  "kernelspec": {
   "display_name": "Python 3",
   "language": "python",
   "name": "python3"
  },
  "language_info": {
   "codemirror_mode": {
    "name": "ipython",
    "version": 3
   },
   "file_extension": ".py",
   "mimetype": "text/x-python",
   "name": "python",
   "nbconvert_exporter": "python",
   "pygments_lexer": "ipython3",
   "version": "3.6.2"
  }
 },
 "nbformat": 4,
 "nbformat_minor": 2
}
